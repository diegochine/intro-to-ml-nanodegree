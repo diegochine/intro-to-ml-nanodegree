{
 "cells": [
  {
   "cell_type": "markdown",
   "metadata": {},
   "source": [
    "# Developing an AI application\n",
    "\n",
    "Going forward, AI algorithms will be incorporated into more and more everyday applications. For example, you might want to include an image classifier in a smart phone app. To do this, you'd use a deep learning model trained on hundreds of thousands of images as part of the overall application architecture. A large part of software development in the future will be using these types of models as common parts of applications. \n",
    "\n",
    "In this project, you'll train an image classifier to recognize different species of flowers. You can imagine using something like this in a phone app that tells you the name of the flower your camera is looking at. In practice you'd train this classifier, then export it for use in your application. We'll be using [this dataset](http://www.robots.ox.ac.uk/~vgg/data/flowers/102/index.html) of 102 flower categories, you can see a few examples below. \n",
    "\n",
    "<img src='assets/Flowers.png' width=500px>\n",
    "\n",
    "The project is broken down into multiple steps:\n",
    "\n",
    "* Load and preprocess the image dataset\n",
    "* Train the image classifier on your dataset\n",
    "* Use the trained classifier to predict image content\n",
    "\n",
    "We'll lead you through each part which you'll implement in Python.\n",
    "\n",
    "When you've completed this project, you'll have an application that can be trained on any set of labeled images. Here your network will be learning about flowers and end up as a command line application. But, what you do with your new skills depends on your imagination and effort in building a dataset. For example, imagine an app where you take a picture of a car, it tells you what the make and model is, then looks up information about it. Go build your own dataset and make something new.\n",
    "\n",
    "First up is importing the packages you'll need. It's good practice to keep all the imports at the beginning of your code. As you work through this notebook and find you need to import a package, make sure to add the import up here."
   ]
  },
  {
   "cell_type": "code",
   "execution_count": 1,
   "metadata": {},
   "outputs": [],
   "source": [
    "import numpy as np\n",
    "import matplotlib.pyplot as plt\n",
    "import torch\n",
    "from torch import nn, optim\n",
    "import torch.nn.functional as F\n",
    "from torchvision import transforms, datasets, models"
   ]
  },
  {
   "cell_type": "markdown",
   "metadata": {},
   "source": [
    "## Load the data\n",
    "\n",
    "Here you'll use `torchvision` to load the data ([documentation](http://pytorch.org/docs/0.3.0/torchvision/index.html)). The data should be included alongside this notebook, otherwise you can [download it here](https://s3.amazonaws.com/content.udacity-data.com/nd089/flower_data.tar.gz). The dataset is split into three parts, training, validation, and testing. For the training, you'll want to apply transformations such as random scaling, cropping, and flipping. This will help the network generalize leading to better performance. You'll also need to make sure the input data is resized to 224x224 pixels as required by the pre-trained networks.\n",
    "\n",
    "The validation and testing sets are used to measure the model's performance on data it hasn't seen yet. For this you don't want any scaling or rotation transformations, but you'll need to resize then crop the images to the appropriate size.\n",
    "\n",
    "The pre-trained networks you'll use were trained on the ImageNet dataset where each color channel was normalized separately. For all three sets you'll need to normalize the means and standard deviations of the images to what the network expects. For the means, it's `[0.485, 0.456, 0.406]` and for the standard deviations `[0.229, 0.224, 0.225]`, calculated from the ImageNet images.  These values will shift each color channel to be centered at 0 and range from -1 to 1.\n",
    " "
   ]
  },
  {
   "cell_type": "code",
   "execution_count": 2,
   "metadata": {},
   "outputs": [],
   "source": [
    "data_dir = 'flowers'\n",
    "train_dir = data_dir + '/train'\n",
    "valid_dir = data_dir + '/valid'\n",
    "test_dir = data_dir + '/test'"
   ]
  },
  {
   "cell_type": "code",
   "execution_count": 3,
   "metadata": {},
   "outputs": [],
   "source": [
    "data_transforms = {'train': transforms.Compose([transforms.RandomRotation(30),\n",
    "                                               transforms.RandomHorizontalFlip(),\n",
    "                                               transforms.RandomCrop(224),\n",
    "                                               transforms.ToTensor(),\n",
    "                                               transforms.Normalize([0.485, 0.456, 0.406], [0.229, 0.224, 0.225])]),\n",
    "                   'valid': transforms.Compose([transforms.Resize(255),\n",
    "                                               transforms.CenterCrop(224),\n",
    "                                               transforms.ToTensor(),\n",
    "                                               transforms.Normalize([0.485, 0.456, 0.406], [0.229, 0.224, 0.225])]),\n",
    "                   'test': transforms.Compose([transforms.Resize(255),\n",
    "                                               transforms.CenterCrop(224),\n",
    "                                               transforms.ToTensor(),\n",
    "                                               transforms.Normalize([0.485, 0.456, 0.406], [0.229, 0.224, 0.225])])\n",
    "                  }\n",
    "\n",
    "# TODO: Load the datasets with ImageFolder\n",
    "train_data = datasets.ImageFolder(train_dir, transform=data_transforms['train'])\n",
    "valid_data = datasets.ImageFolder(valid_dir, transform=data_transforms['valid'])\n",
    "test_data = datasets.ImageFolder(test_dir, transform=data_transforms['test'])\n",
    "\n",
    "# TODO: Using the image datasets and the trainforms, define the dataloaders\n",
    "trainloader = torch.utils.data.DataLoader(train_data, batch_size=32, shuffle=True)\n",
    "validloader = torch.utils.data.DataLoader(valid_data, batch_size=32)\n",
    "testloader = torch.utils.data.DataLoader(test_data, batch_size=32)"
   ]
  },
  {
   "cell_type": "markdown",
   "metadata": {},
   "source": [
    "### Label mapping\n",
    "\n",
    "You'll also need to load in a mapping from category label to category name. You can find this in the file `cat_to_name.json`. It's a JSON object which you can read in with the [`json` module](https://docs.python.org/2/library/json.html). This will give you a dictionary mapping the integer encoded categories to the actual names of the flowers."
   ]
  },
  {
   "cell_type": "code",
   "execution_count": 4,
   "metadata": {},
   "outputs": [],
   "source": [
    "import json\n",
    "\n",
    "with open('cat_to_name.json', 'r') as f:\n",
    "    cat_to_name = json.load(f)"
   ]
  },
  {
   "cell_type": "markdown",
   "metadata": {},
   "source": [
    "# Building and training the classifier\n",
    "\n",
    "Now that the data is ready, it's time to build and train the classifier. As usual, you should use one of the pretrained models from `torchvision.models` to get the image features. Build and train a new feed-forward classifier using those features.\n",
    "\n",
    "We're going to leave this part up to you. Refer to [the rubric](https://review.udacity.com/#!/rubrics/1663/view) for guidance on successfully completing this section. Things you'll need to do:\n",
    "\n",
    "* Load a [pre-trained network](http://pytorch.org/docs/master/torchvision/models.html) (If you need a starting point, the VGG networks work great and are straightforward to use)\n",
    "* Define a new, untrained feed-forward network as a classifier, using ReLU activations and dropout\n",
    "* Train the classifier layers using backpropagation using the pre-trained network to get the features\n",
    "* Track the loss and accuracy on the validation set to determine the best hyperparameters\n",
    "\n",
    "We've left a cell open for you below, but use as many as you need. Our advice is to break the problem up into smaller parts you can run separately. Check that each part is doing what you expect, then move on to the next. You'll likely find that as you work through each part, you'll need to go back and modify your previous code. This is totally normal!\n",
    "\n",
    "When training make sure you're updating only the weights of the feed-forward network. You should be able to get the validation accuracy above 70% if you build everything right. Make sure to try different hyperparameters (learning rate, units in the classifier, epochs, etc) to find the best model. Save those hyperparameters to use as default values in the next part of the project.\n",
    "\n",
    "One last important tip if you're using the workspace to run your code: To avoid having your workspace disconnect during the long-running tasks in this notebook, please read in the earlier page in this lesson called Intro to\n",
    "GPU Workspaces about Keeping Your Session Active. You'll want to include code from the workspace_utils.py module.\n",
    "\n",
    "**Note for Workspace users:** If your network is over 1 GB when saved as a checkpoint, there might be issues with saving backups in your workspace. Typically this happens with wide dense layers after the convolutional layers. If your saved checkpoint is larger than 1 GB (you can open a terminal and check with `ls -lh`), you should reduce the size of your hidden layers and train again."
   ]
  },
  {
   "cell_type": "code",
   "execution_count": 5,
   "metadata": {},
   "outputs": [],
   "source": [
    "def build_model(output_size=102, hidden_units=[], p_drop=0.25):\n",
    "    # obtain pretrained model and freeze parameters\n",
    "    model = models.resnet50(pretrained=True)\n",
    "    for param in model.parameters():\n",
    "        param.requires_grad = False\n",
    "        \n",
    "    from collections import OrderedDict\n",
    "    if not hidden_units:\n",
    "        raise ValueError('hidden_layers must contain at least 1 element')\n",
    "    \n",
    "    # generate layers\n",
    "    layers = [('input', nn.Linear(model.fc.in_features, hidden_units[0])), ('relu', nn.ReLU()), ('drop', nn.Dropout(p_drop))]\n",
    "    for i, (s1, s2) in enumerate(zip(hidden_units[:-1], hidden_units[1:])):\n",
    "        layers.append(('hl_' + str(i), nn.Linear(s1, s2)))\n",
    "        layers.append(('relu_' + str(i), nn.ReLU()))\n",
    "        layers.append(('drop_' + str(i), nn.Dropout(p_drop)))\n",
    "    layers += [('out', nn.Linear(hidden_units[-1], output_size)), ('logits', nn.LogSoftmax(dim=1))]\n",
    "    # change last layer of pretrained model\n",
    "    model.fc = nn.Sequential(OrderedDict(layers))\n",
    "    \n",
    "    return model"
   ]
  },
  {
   "cell_type": "code",
   "execution_count": 6,
   "metadata": {},
   "outputs": [
    {
     "data": {
      "text/plain": [
       "device(type='cuda', index=0)"
      ]
     },
     "execution_count": 6,
     "metadata": {},
     "output_type": "execute_result"
    }
   ],
   "source": [
    "# dealing with CUDA or cpu\n",
    "def best_device():\n",
    "    return torch.device('cuda:0' if torch.cuda.is_available() else 'cpu')\n",
    "best_device()"
   ]
  },
  {
   "cell_type": "code",
   "execution_count": 7,
   "metadata": {},
   "outputs": [],
   "source": [
    "from time import time\n",
    "def train_and_tune(epochs, learn_rates, hidden_sizes, criterion):\n",
    "    # keep track of scores to choose best hyperparameters\n",
    "    print('Starting!')\n",
    "    best_score = 10000\n",
    "    best_params = None\n",
    "    for hidden_units in hidden_sizes:\n",
    "        model = build_model(102, hidden_units=hidden_units)\n",
    "        model.to(best_device())\n",
    "        for lr in learn_rates:\n",
    "            optimizer = optim.Adam(model.fc.parameters(), lr=lr)\n",
    "            print('\\nPARAMETERS: LR = {:.3f} , Hidden units ='.format(lr), hidden_units)\n",
    "            start = time()\n",
    "            for e in range(epochs):\n",
    "                train_loss = 0\n",
    "                steps = 1\n",
    "                next_percentage = 0.20\n",
    "                # training loop\n",
    "                for images, labels in trainloader:\n",
    "                    images, labels = images.to(best_device()), labels.to(best_device())\n",
    "                    steps += 1\n",
    "                    if steps / len(trainloader) > next_percentage:\n",
    "                        print('{:.0f}'.format(next_percentage * 100), '%', end=' ')\n",
    "                        next_percentage += 0.20\n",
    "\n",
    "                    optimizer.zero_grad()\n",
    "                    logps = model(images)\n",
    "                    loss = criterion(logps, labels)\n",
    "                    loss.backward()\n",
    "                    optimizer.step()\n",
    "\n",
    "                    train_loss += loss.item()\n",
    "\n",
    "                # validation loop\n",
    "                valid_loss = 0\n",
    "                with torch.no_grad():\n",
    "                    model.eval()\n",
    "                    for images, labels in validloader:\n",
    "                        images, labels = images.to(best_device()), labels.to(best_device())\n",
    "                        logps = model(images)\n",
    "                        valid_loss += criterion(logps, labels).item()\n",
    "                    print('\\nEPOCH {:2}/{:2} - Train loss: {:.3f} - Valid loss: {:.3f}'.format(\n",
    "                        e+1, epochs, train_loss/len(trainloader), valid_loss/len(validloader)))\n",
    "                    train_loss = 0\n",
    "                    model.train()\n",
    "                if valid_loss/len(validloader) < best_score:\n",
    "                    best_score = valid_loss/len(validloader)\n",
    "                    best_params = (e, lr, hidden_units)\n",
    "            print('Elapsed time: {:.2f}m'.format((time() - start)/60))\n",
    "    # retrain the network with the best params\n",
    "    print('Retraining with best parameters:', best_params)\n",
    "    e, lr, hidden_units = best_params\n",
    "    model = build_model(102, hidden_units)\n",
    "    model.to(best_device())\n",
    "    optimizer = optim.Adam(model.fc.parameters(), lr=lr)\n",
    "    print('EPOCH:',end=' ')\n",
    "    for i in range(e):\n",
    "        print(i, end=' ')\n",
    "        for images, labels in trainloader:\n",
    "            images, labels = images.to(best_device()), labels.to(best_device())\n",
    "            optimizer.zero_grad()\n",
    "            logps = model(images)\n",
    "            loss = criterion(logps, labels)\n",
    "            loss.backward()\n",
    "            optimizer.step()\n",
    "    return model, optimizer, best_params"
   ]
  },
  {
   "cell_type": "code",
   "execution_count": 10,
   "metadata": {
    "scrolled": false
   },
   "outputs": [
    {
     "name": "stdout",
     "output_type": "stream",
     "text": [
      "Starting!\n",
      "\n",
      "PARAMETERS: LR = 0.0010 , Hidden units = [1024]\n",
      "20 % 40 % 60 % 80 % 100 % \n",
      "EPOCH  1/20 - Train loss: 3.655 - Valid loss: 2.320\n",
      "20 % 40 % 60 % 80 % 100 % \n",
      "EPOCH  2/20 - Train loss: 2.280 - Valid loss: 1.697\n",
      "20 % 40 % 60 % 80 % 100 % \n",
      "EPOCH  3/20 - Train loss: 1.832 - Valid loss: 1.380\n",
      "20 % 40 % 60 % 80 % 100 % \n",
      "EPOCH  4/20 - Train loss: 1.621 - Valid loss: 1.100\n",
      "20 % 40 % 60 % 80 % 100 % \n",
      "EPOCH  5/20 - Train loss: 1.509 - Valid loss: 1.040\n",
      "20 % 40 % 60 % 80 % 100 % \n",
      "EPOCH  6/20 - Train loss: 1.417 - Valid loss: 1.082\n",
      "20 % 40 % 60 % 80 % 100 % \n",
      "EPOCH  7/20 - Train loss: 1.391 - Valid loss: 1.060\n",
      "20 % 40 % 60 % 80 % 100 % \n",
      "EPOCH  8/20 - Train loss: 1.311 - Valid loss: 0.965\n",
      "20 % 40 % 60 % 80 % 100 % \n",
      "EPOCH  9/20 - Train loss: 1.274 - Valid loss: 1.114\n",
      "20 % 40 % 60 % 80 % 100 % \n",
      "EPOCH 10/20 - Train loss: 1.252 - Valid loss: 0.912\n",
      "20 % 40 % 60 % 80 % 100 % \n",
      "EPOCH 11/20 - Train loss: 1.205 - Valid loss: 0.932\n",
      "20 % 40 % 60 % 80 % 100 % \n",
      "EPOCH 12/20 - Train loss: 1.174 - Valid loss: 1.109\n",
      "20 % 40 % 60 % 80 % 100 % \n",
      "EPOCH 13/20 - Train loss: 1.132 - Valid loss: 0.813\n",
      "20 % 40 % 60 % 80 % 100 % \n",
      "EPOCH 14/20 - Train loss: 1.161 - Valid loss: 0.984\n",
      "20 % 40 % 60 % 80 % 100 % \n",
      "EPOCH 15/20 - Train loss: 1.117 - Valid loss: 0.831\n",
      "20 % 40 % 60 % 80 % 100 % \n",
      "EPOCH 16/20 - Train loss: 1.104 - Valid loss: 0.950\n",
      "20 % 40 % 60 % 80 % 100 % \n",
      "EPOCH 17/20 - Train loss: 1.091 - Valid loss: 0.794\n",
      "20 % 40 % 60 % 80 % 100 % \n",
      "EPOCH 18/20 - Train loss: 1.123 - Valid loss: 0.818\n",
      "20 % 40 % 60 % 80 % 100 % \n",
      "EPOCH 19/20 - Train loss: 1.071 - Valid loss: 0.794\n",
      "20 % 40 % 60 % 80 % 100 % \n",
      "EPOCH 20/20 - Train loss: 1.106 - Valid loss: 0.823\n",
      "Elapsed time: 37.15m\n",
      "\n",
      "PARAMETERS: LR = 0.0010 , Hidden units = [512, 128]\n",
      "20 % 40 % 60 % 80 % 100 % \n",
      "EPOCH  1/20 - Train loss: 4.201 - Valid loss: 3.203\n",
      "20 % 40 % 60 % 80 % 100 % \n",
      "EPOCH  2/20 - Train loss: 3.055 - Valid loss: 2.289\n",
      "20 % 40 % 60 % 80 % 100 % \n",
      "EPOCH  3/20 - Train loss: 2.488 - Valid loss: 1.809\n",
      "20 % 40 % 60 % 80 % 100 % \n",
      "EPOCH  4/20 - Train loss: 2.238 - Valid loss: 1.667\n",
      "20 % 40 % 60 % 80 % 100 % \n",
      "EPOCH  5/20 - Train loss: 2.045 - Valid loss: 1.705\n",
      "20 % 40 % 60 % 80 % 100 % \n",
      "EPOCH  6/20 - Train loss: 1.897 - Valid loss: 1.512\n",
      "20 % 40 % 60 % 80 % 100 % \n",
      "EPOCH  7/20 - Train loss: 1.839 - Valid loss: 1.422\n",
      "20 % 40 % 60 % 80 % 100 % \n",
      "EPOCH  8/20 - Train loss: 1.792 - Valid loss: 1.383\n",
      "20 % 40 % 60 % 80 % 100 % \n",
      "EPOCH  9/20 - Train loss: 1.676 - Valid loss: 1.142\n",
      "20 % 40 % 60 % 80 % 100 % \n",
      "EPOCH 10/20 - Train loss: 1.652 - Valid loss: 1.177\n",
      "20 % 40 % 60 % 80 % 100 % \n",
      "EPOCH 11/20 - Train loss: 1.613 - Valid loss: 1.389\n",
      "20 % 40 % 60 % 80 % 100 % \n",
      "EPOCH 12/20 - Train loss: 1.589 - Valid loss: 1.329\n",
      "20 % 40 % 60 % 80 % 100 % \n",
      "EPOCH 13/20 - Train loss: 1.552 - Valid loss: 1.150\n",
      "20 % 40 % 60 % 80 % 100 % \n",
      "EPOCH 14/20 - Train loss: 1.529 - Valid loss: 1.202\n",
      "20 % 40 % 60 % 80 % 100 % \n",
      "EPOCH 15/20 - Train loss: 1.529 - Valid loss: 1.122\n",
      "20 % 40 % 60 % 80 % 100 % \n",
      "EPOCH 16/20 - Train loss: 1.472 - Valid loss: 1.195\n",
      "20 % 40 % 60 % 80 % 100 % \n",
      "EPOCH 17/20 - Train loss: 1.485 - Valid loss: 1.097\n",
      "20 % 40 % 60 % 80 % 100 % \n",
      "EPOCH 18/20 - Train loss: 1.492 - Valid loss: 1.073\n",
      "20 % 40 % 60 % 80 % 100 % \n",
      "EPOCH 19/20 - Train loss: 1.403 - Valid loss: 0.977\n",
      "20 % 40 % 60 % 80 % 100 % \n",
      "EPOCH 20/20 - Train loss: 1.390 - Valid loss: 1.176\n",
      "Elapsed time: 36.88m\n",
      "\n",
      "PARAMETERS: LR = 0.0010 , Hidden units = [1024, 256, 64]\n",
      "20 % 40 % 60 % 80 % 100 % \n",
      "EPOCH  1/20 - Train loss: 4.473 - Valid loss: 4.088\n",
      "20 % 40 % 60 % 80 % 100 % \n",
      "EPOCH  2/20 - Train loss: 3.830 - Valid loss: 3.765\n",
      "20 % 40 % 60 % 80 % 100 % \n",
      "EPOCH  3/20 - Train loss: 3.286 - Valid loss: 2.560\n",
      "20 % 40 % 60 % 80 % 100 % \n",
      "EPOCH  4/20 - Train loss: 2.940 - Valid loss: 2.404\n",
      "20 % 40 % 60 % 80 % 100 % \n",
      "EPOCH  5/20 - Train loss: 2.744 - Valid loss: 2.397\n",
      "20 % 40 % 60 % 80 % 100 % \n",
      "EPOCH  6/20 - Train loss: 2.570 - Valid loss: 2.026\n",
      "20 % 40 % 60 % 80 % 100 % \n",
      "EPOCH  7/20 - Train loss: 2.457 - Valid loss: 1.957\n",
      "20 % 40 % 60 % 80 % 100 % \n",
      "EPOCH  8/20 - Train loss: 2.335 - Valid loss: 1.802\n",
      "20 % 40 % 60 % 80 % 100 % \n",
      "EPOCH  9/20 - Train loss: 2.265 - Valid loss: 1.898\n",
      "20 % 40 % 60 % 80 % 100 % \n",
      "EPOCH 10/20 - Train loss: 2.200 - Valid loss: 1.672\n",
      "20 % 40 % 60 % 80 % 100 % \n",
      "EPOCH 11/20 - Train loss: 2.123 - Valid loss: 1.451\n",
      "20 % 40 % 60 % 80 % 100 % \n",
      "EPOCH 12/20 - Train loss: 2.077 - Valid loss: 1.703\n",
      "20 % 40 % 60 % 80 % 100 % \n",
      "EPOCH 13/20 - Train loss: 2.087 - Valid loss: 1.691\n",
      "20 % 40 % 60 % 80 % 100 % \n",
      "EPOCH 14/20 - Train loss: 1.956 - Valid loss: 1.590\n",
      "20 % 40 % 60 % 80 % 100 % \n",
      "EPOCH 15/20 - Train loss: 1.918 - Valid loss: 1.655\n",
      "20 % 40 % 60 % 80 % 100 % \n",
      "EPOCH 16/20 - Train loss: 1.915 - Valid loss: 1.543\n",
      "20 % 40 % 60 % 80 % 100 % \n",
      "EPOCH 17/20 - Train loss: 1.922 - Valid loss: 1.608\n",
      "20 % 40 % 60 % 80 % 100 % \n",
      "EPOCH 18/20 - Train loss: 1.897 - Valid loss: 1.483\n",
      "20 % 40 % 60 % 80 % 100 % \n",
      "EPOCH 19/20 - Train loss: 1.861 - Valid loss: 1.344\n",
      "20 % 40 % 60 % 80 % 100 % \n",
      "EPOCH 20/20 - Train loss: 1.820 - Valid loss: 1.499\n",
      "Elapsed time: 36.66m\n",
      "Retraining with best parameters: (16, 0.001, [1024])\n",
      "EPOCH: 0 1 2 3 4 5 6 7 8 9 10 11 12 13 14 15 "
     ]
    }
   ],
   "source": [
    "criterion = nn.NLLLoss()\n",
    "epochs = 20\n",
    "from workspace_utils import active_session\n",
    "with active_session():\n",
    "    model, optimizer, best_params = train_and_tune(epochs=epochs, \n",
    "                                                   learn_rates=[0.001], \n",
    "                                                   hidden_sizes=[[1024], [512, 128], [1024, 256, 64]], \n",
    "                                                   criterion=criterion)"
   ]
  },
  {
   "cell_type": "markdown",
   "metadata": {},
   "source": [
    "## Testing your network\n",
    "\n",
    "It's good practice to test your trained network on test data, images the network has never seen either in training or validation. This will give you a good estimate for the model's performance on completely new images. Run the test images through the network and measure the accuracy, the same way you did validation. You should be able to reach around 70% accuracy on the test set if the model has been trained well."
   ]
  },
  {
   "cell_type": "code",
   "execution_count": 11,
   "metadata": {},
   "outputs": [
    {
     "name": "stdout",
     "output_type": "stream",
     "text": [
      "Test loss: 0.879 - Accuracy: 76.39%\n"
     ]
    }
   ],
   "source": [
    "test_loss = 0\n",
    "accuracy = 0     \n",
    "with torch.no_grad():\n",
    "    model.eval()\n",
    "    for images, labels in testloader:\n",
    "        images, labels = images.to(best_device()), labels.to(best_device())\n",
    "        logps = model(images)\n",
    "        test_loss += criterion(logps, labels).item()\n",
    "        \n",
    "        ps = torch.exp(logps)\n",
    "        top_p, top_class = ps.topk(1, dim=1)\n",
    "        correct = top_class == labels.view(*top_class.shape)\n",
    "        accuracy += torch.mean(correct.type(torch.FloatTensor))\n",
    "        \n",
    "    print('Test loss: {:.3f} - Accuracy: {:.2f}%'.format(test_loss/len(testloader), accuracy*100/len(testloader)))\n",
    "    model.train()"
   ]
  },
  {
   "cell_type": "markdown",
   "metadata": {},
   "source": [
    "## Save the checkpoint\n",
    "\n",
    "Now that your network is trained, save the model so you can load it later for making predictions. You probably want to save other things such as the mapping of classes to indices which you get from one of the image datasets: `image_datasets['train'].class_to_idx`. You can attach this to the model as an attribute which makes inference easier later on.\n",
    "\n",
    "```model.class_to_idx = image_datasets['train'].class_to_idx```\n",
    "\n",
    "Remember that you'll want to completely rebuild the model later so you can use it for inference. Make sure to include any information you need in the checkpoint. If you want to load the model and keep training, you'll want to save the number of epochs as well as the optimizer state, `optimizer.state_dict`. You'll likely want to use this trained model in the next part of the project, so best to save it now."
   ]
  },
  {
   "cell_type": "code",
   "execution_count": 12,
   "metadata": {},
   "outputs": [],
   "source": [
    "def save_checkpoint(model, class_to_idx, hidden_units, lr,\n",
    "                    e = 0, fully_trained = True, optimizer = None, filename='checkpoint.pth'):\n",
    "    checkpoint = {'output_size': model.fc.out.out_features,\n",
    "                  'hidden_units': hidden_units,\n",
    "                  'model_fc_state': model.fc.state_dict(),\n",
    "                  'epoch': e,\n",
    "                  'lr': lr,\n",
    "                  'fully_trained': fully_trained,\n",
    "                  'class_to_idx': class_to_idx,\n",
    "                  'idx_to_class': {v:k for k, v in class_to_idx.items()}}\n",
    "    if not fully_trained:\n",
    "        checkpoint['optimizer_state'] = optimizer.state_dict()\n",
    "        checkpoint['optimizer_lr'] = optimizer.param_groups[0]['lr']\n",
    "    torch.save(checkpoint, filename)"
   ]
  },
  {
   "cell_type": "code",
   "execution_count": 13,
   "metadata": {},
   "outputs": [],
   "source": [
    "e, lr, hidden_units = best_params\n",
    "save_checkpoint(model, train_data.class_to_idx, hidden_units=hidden_units, lr=lr, e=e)"
   ]
  },
  {
   "cell_type": "markdown",
   "metadata": {},
   "source": [
    "## Loading the checkpoint\n",
    "\n",
    "At this point it's good to write a function that can load a checkpoint and rebuild the model. That way you can come back to this project and keep working on it without having to retrain the network."
   ]
  },
  {
   "cell_type": "code",
   "execution_count": 14,
   "metadata": {},
   "outputs": [],
   "source": [
    "def load_checkpoint(filename='checkpoint.pth'):\n",
    "    checkpoint = torch.load(filename)\n",
    "    model = build_model(output_size=checkpoint['output_size'], \n",
    "                        hidden_units=checkpoint['hidden_units'])\n",
    "    model.fc.load_state_dict(checkpoint['model_fc_state'])\n",
    "    model.class_to_idx = checkpoint['class_to_idx']\n",
    "    model.idx_to_class = checkpoint['idx_to_class']\n",
    "    if not checkpoint['fully_trained']:\n",
    "        optimizer = optim.Adam(model.fc.parameters(), lr=checkpoint['optimizer_lr'])\n",
    "        optimizer.load_state_dict(checkpoint['optimizer_state'])\n",
    "        return model, optimizer\n",
    "    else:\n",
    "        return model"
   ]
  },
  {
   "cell_type": "code",
   "execution_count": 15,
   "metadata": {},
   "outputs": [],
   "source": [
    "model = load_checkpoint()"
   ]
  },
  {
   "cell_type": "markdown",
   "metadata": {},
   "source": [
    "# Inference for classification\n",
    "\n",
    "Now you'll write a function to use a trained network for inference. That is, you'll pass an image into the network and predict the class of the flower in the image. Write a function called `predict` that takes an image and a model, then returns the top $K$ most likely classes along with the probabilities. It should look like \n",
    "\n",
    "```python\n",
    "probs, classes = predict(image_path, model)\n",
    "print(probs)\n",
    "print(classes)\n",
    "> [ 0.01558163  0.01541934  0.01452626  0.01443549  0.01407339]\n",
    "> ['70', '3', '45', '62', '55']\n",
    "```\n",
    "\n",
    "First you'll need to handle processing the input image such that it can be used in your network. \n",
    "\n",
    "## Image Preprocessing\n",
    "\n",
    "You'll want to use `PIL` to load the image ([documentation](https://pillow.readthedocs.io/en/latest/reference/Image.html)). It's best to write a function that preprocesses the image so it can be used as input for the model. This function should process the images in the same manner used for training. \n",
    "\n",
    "First, resize the images where the shortest side is 256 pixels, keeping the aspect ratio. This can be done with the [`thumbnail`](http://pillow.readthedocs.io/en/3.1.x/reference/Image.html#PIL.Image.Image.thumbnail) or [`resize`](http://pillow.readthedocs.io/en/3.1.x/reference/Image.html#PIL.Image.Image.thumbnail) methods. Then you'll need to crop out the center 224x224 portion of the image.\n",
    "\n",
    "Color channels of images are typically encoded as integers 0-255, but the model expected floats 0-1. You'll need to convert the values. It's easiest with a Numpy array, which you can get from a PIL image like so `np_image = np.array(pil_image)`.\n",
    "\n",
    "As before, the network expects the images to be normalized in a specific way. For the means, it's `[0.485, 0.456, 0.406]` and for the standard deviations `[0.229, 0.224, 0.225]`. You'll want to subtract the means from each color channel, then divide by the standard deviation. \n",
    "\n",
    "And finally, PyTorch expects the color channel to be the first dimension but it's the third dimension in the PIL image and Numpy array. You can reorder dimensions using [`ndarray.transpose`](https://docs.scipy.org/doc/numpy-1.13.0/reference/generated/numpy.ndarray.transpose.html). The color channel needs to be first and retain the order of the other two dimensions."
   ]
  },
  {
   "cell_type": "code",
   "execution_count": 16,
   "metadata": {},
   "outputs": [],
   "source": [
    "def process_image(image):\n",
    "    ''' \n",
    "    Scales, crops, and normalizes a PIL image for a PyTorch model,\n",
    "    returns a pytorch tensor\n",
    "    '''\n",
    "    from PIL import Image\n",
    "    # resize to 256x256 and crop to 224x224\n",
    "    pil_img = Image.open(image).resize((256, 256))\n",
    "    w, h = pil_img.size\n",
    "    pil_img = pil_img.crop(((w - 224)/2, (h - 224)/2, (w + 224)/2, (h + 224)/2 ))\n",
    "    \n",
    "    # normalize\n",
    "    means = [0.485, 0.456, 0.406]\n",
    "    stds = [0.229, 0.224, 0.225]\n",
    "    np_img = np.array(pil_img) / 255\n",
    "    np_img = (np_img - means) / stds\n",
    "    \n",
    "    # reordering dimensions\n",
    "    np_img = np_img.transpose(2, 0, 1)\n",
    "    return torch.from_numpy(np_img).float()"
   ]
  },
  {
   "cell_type": "markdown",
   "metadata": {},
   "source": [
    "To check your work, the function below converts a PyTorch tensor and displays it in the notebook. If your `process_image` function works, running the output through this function should return the original image (except for the cropped out portions)."
   ]
  },
  {
   "cell_type": "code",
   "execution_count": 17,
   "metadata": {},
   "outputs": [],
   "source": [
    "def imshow(image, ax=None, title=None):\n",
    "    \"\"\"Imshow for Tensor.\"\"\"\n",
    "    if ax is None:\n",
    "        fig, ax = plt.subplots()\n",
    "    \n",
    "    # PyTorch tensors assume the color channel is the first dimension\n",
    "    # but matplotlib assumes is the third dimension\n",
    "    image = image.numpy().transpose((1, 2, 0))\n",
    "    \n",
    "    # Undo preprocessing\n",
    "    mean = np.array([0.485, 0.456, 0.406])\n",
    "    std = np.array([0.229, 0.224, 0.225])\n",
    "    image = std * image + mean\n",
    "    \n",
    "    # Image needs to be clipped between 0 and 1 or it looks like noise when displayed\n",
    "    image = np.clip(image, 0, 1)\n",
    "    \n",
    "    ax.imshow(image)\n",
    "    \n",
    "    return ax"
   ]
  },
  {
   "cell_type": "markdown",
   "metadata": {},
   "source": [
    "## Class Prediction\n",
    "\n",
    "Once you can get images in the correct format, it's time to write a function for making predictions with your model. A common practice is to predict the top 5 or so (usually called top-$K$) most probable classes. You'll want to calculate the class probabilities then find the $K$ largest values.\n",
    "\n",
    "To get the top $K$ largest values in a tensor use [`x.topk(k)`](http://pytorch.org/docs/master/torch.html#torch.topk). This method returns both the highest `k` probabilities and the indices of those probabilities corresponding to the classes. You need to convert from these indices to the actual class labels using `class_to_idx` which hopefully you added to the model or from an `ImageFolder` you used to load the data ([see here](#Save-the-checkpoint)). Make sure to invert the dictionary so you get a mapping from index to class as well.\n",
    "\n",
    "Again, this method should take a path to an image and a model checkpoint, then return the probabilities and classes.\n",
    "\n",
    "```python\n",
    "probs, classes = predict(image_path, model)\n",
    "print(probs)\n",
    "print(classes)\n",
    "> [ 0.01558163  0.01541934  0.01452626  0.01443549  0.01407339]\n",
    "> ['70', '3', '45', '62', '55']\n",
    "```"
   ]
  },
  {
   "cell_type": "code",
   "execution_count": 18,
   "metadata": {},
   "outputs": [],
   "source": [
    "def predict(image_path, model='checkpoint.pth', topk=5):\n",
    "    ''' Predict the class (or classes) of an image using a trained deep learning model.\n",
    "    '''\n",
    "    model = load_checkpoint(model)\n",
    "    model.eval()\n",
    "    model.to(best_device())\n",
    "    \n",
    "    img_tensor = process_image(image_path)\n",
    "    # adding batch dimension and moving to gpu if possible\n",
    "    img_tensor = torch.unsqueeze(img_tensor, 0).to(best_device())\n",
    "    with torch.no_grad():\n",
    "        output = model.forward(img_tensor)\n",
    "    ps = torch.exp(output)\n",
    "    top_p, top_class = ps.topk(topk, dim=1)\n",
    "    \n",
    "    return top_p.tolist()[0], [model.idx_to_class[c.item()] for c in top_class[0]]"
   ]
  },
  {
   "cell_type": "markdown",
   "metadata": {},
   "source": [
    "## Sanity Checking\n",
    "\n",
    "Now that you can use a trained model for predictions, check to make sure it makes sense. Even if the testing accuracy is high, it's always good to check that there aren't obvious bugs. Use `matplotlib` to plot the probabilities for the top 5 classes as a bar graph, along with the input image. It should look like this:\n",
    "\n",
    "<img src='assets/inference_example.png' width=300px>\n",
    "\n",
    "You can convert from the class integer encoding to actual flower names with the `cat_to_name.json` file (should have been loaded earlier in the notebook). To show a PyTorch tensor as an image, use the `imshow` function defined above."
   ]
  },
  {
   "cell_type": "code",
   "execution_count": 20,
   "metadata": {},
   "outputs": [
    {
     "data": {
      "text/plain": [
       "<Container object of 5 artists>"
      ]
     },
     "execution_count": 20,
     "metadata": {},
     "output_type": "execute_result"
    },
    {
     "data": {
      "image/png": "[encoded data removed]",
      "text/plain": [
       "<matplotlib.figure.Figure at 0x7fb1647c2860>"
      ]
     },
     "metadata": {
      "needs_background": "light"
     },
     "output_type": "display_data"
    }
   ],
   "source": [
    "img_path = 'flowers/test/1/image_06743.jpg'\n",
    "probs, classes = predict(img_path, 'checkpoint.pth')\n",
    "best_class = cat_to_name[classes[0]]\n",
    "results = {cat_to_name[c]: prob for c, prob in zip(classes, probs)}\n",
    "\n",
    "fig, (flower_ax, probs_ax) = plt.subplots(2, 1, figsize=(10, 7))\n",
    "# plot image\n",
    "flower_ax = imshow(process_image(img_path), ax=flower_ax)\n",
    "flower_ax.set_title(best_class)\n",
    "# plot probs\n",
    "probs_ax.barh(range(len(results)), list(results.values())[::-1], align='center', tick_label=list(results.keys())[::-1])"
   ]
  }
 ],
 "metadata": {
  "kernelspec": {
   "display_name": "Python 3",
   "language": "python",
   "name": "python3"
  },
  "language_info": {
   "codemirror_mode": {
    "name": "ipython",
    "version": 3
   },
   "file_extension": ".py",
   "mimetype": "text/x-python",
   "name": "python",
   "nbconvert_exporter": "python",
   "pygments_lexer": "ipython3",
   "version": "3.6.3"
  }
 },
 "nbformat": 4,
 "nbformat_minor": 2
}
